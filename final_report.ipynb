{
 "cells": [
  {
   "cell_type": "code",
   "execution_count": 30,
   "metadata": {},
   "outputs": [],
   "source": [
    "import warnings\n",
    "warnings.filterwarnings(\"ignore\")\n",
    "\n",
    "import pandas as pd\n",
    "import seaborn as sns\n",
    "import matplotlib.pyplot as plt\n",
    "\n",
    "from acquire import get_telco_data\n",
    "from prepare import prep_telco\n",
    "from explore import train_validate_test_split\n",
    "from explore import explore_univariate, explore_bivariate, explore_bivariate_categorical, explore_multivariate\n",
    "\n",
    "from sklearn.ensemble import RandomForestClassifier\n",
    "from sklearn.neighbors import KNeighborsClassifier\n",
    "from sklearn.linear_model import LogisticRegression\n",
    "\n",
    "from sklearn.metrics import confusion_matrix\n",
    "from sklearn.metrics import classification_report"
   ]
  },
  {
   "cell_type": "markdown",
   "metadata": {},
   "source": [
    "# Project Overview\n",
    "\n",
    "This project is to analyze the customer data and identify the key driver for customer churning. \n",
    "I will be exploring the customer data, make an ML classification model, and predict the customers who are likely to churn."
   ]
  },
  {
   "cell_type": "markdown",
   "metadata": {},
   "source": [
    "## Goals\n",
    "-Find the key drivers for customer churning <br>\n",
    "-Create classification models <br>\n",
    "-Predict the customers who are likely to churn"
   ]
  },
  {
   "cell_type": "markdown",
   "metadata": {},
   "source": [
    "Initial Questions\n",
    "- What are the correlation between customer data and churn rate?\n",
    "- Do demographies affect churn rate?\n",
    "- Do additional services affect churn rate?\n",
    "- Do contract type affect churn rate?\n",
    "- Do payment type affect churn rate?\n",
    "- Do internet service type affect churn rate?"
   ]
  },
  {
   "cell_type": "markdown",
   "metadata": {},
   "source": [
    "## Acquire\n",
    "Using SQL query, the telco_churn.csv data was retrieved from the Codeup database. <br>\n",
    "The SQL query is written to join the customers, contract_types, internet_service_types, and payment_types tables."
   ]
  },
  {
   "cell_type": "code",
   "execution_count": 2,
   "metadata": {},
   "outputs": [],
   "source": [
    "df = get_telco_data()"
   ]
  },
  {
   "cell_type": "markdown",
   "metadata": {},
   "source": [
    "## Prepare\n",
    "Drop the redundant id columns.\n",
    "\n",
    "Clean the empty spaces in the total charge column and turn it into float type. \n",
    "\n",
    "Encode the bivariate categories and create dummy dataframes for 'contract_type','internet_service_type', 'payment_type'."
   ]
  },
  {
   "cell_type": "code",
   "execution_count": 3,
   "metadata": {},
   "outputs": [],
   "source": [
    "df = prep_telco(df)"
   ]
  },
  {
   "cell_type": "code",
   "execution_count": 10,
   "metadata": {},
   "outputs": [
    {
     "data": {
      "text/plain": [
       "((3943, 28), (1691, 28), (1409, 28))"
      ]
     },
     "execution_count": 10,
     "metadata": {},
     "output_type": "execute_result"
    }
   ],
   "source": [
    "# Split the dataframe into train, validate, and test dataset for analysis.\n",
    "train, validate, test = train_validate_test_split(df, target = 'churn', seed =123)\n",
    "train.shape, validate.shape, test.shape"
   ]
  },
  {
   "cell_type": "markdown",
   "metadata": {},
   "source": [
    "## Explore\n",
    "Split the data into train, validate, and test datasets.\n",
    "\n",
    "Using bivariate method from explore.py, churning rates against categorical variables were analyzed\n",
    "\n",
    "Excluded features that have similar churn rate for yes and no, i.e. phone_services, multiple_lines, is_male(gender)\n",
    "\n",
    "\n",
    "Features | churn rate for no | churn rate for yes\n",
    "------------- | ------------- | ------------- \n",
    "partner | 33% | 19%\n",
    "dependents | 31% | 15%\n",
    "online_security | 31% | 16%\n",
    "online_backup | 29% | 21%\n",
    "device_protection  | 29% | 22%\n",
    "tech_support | 31% | 16%\n",
    "streaming_tv | 24% | 30%\n",
    "streaming_movies | 24% | 30%\n",
    "paperless_billing | 16% | 33%\n",
    "senior_citizen | 24% | 40%\n",
    "contract_type_Month-to-month  | 7% | 42%\n",
    "internet_service_type_DSL  | 31% | 19%\n",
    "internet_service_type_Fiber optic  | 15% | 42%\n",
    "payment_type_Bank transfer (automatic)| 30% | 15%\n",
    "payment_type_Credit card (automatic)  | 29% | 16%\n",
    "payment_type_Electronic check  | 17% | 45%\n",
    "payment_type_Mailed check  | 28% | 20%"
   ]
  },
  {
   "cell_type": "markdown",
   "metadata": {},
   "source": [
    "Looking at the churn rate, I will pick the ones with more than 40% of churn rate <br>\n",
    "and do stats assessment to see if there is a correlation.<br>\n",
    "\n",
    "Those are... <br>\n",
    "-electronic check payment type,<br>\n",
    "-fiber optic internet service type,<br>\n",
    "-month-to-month contract type,<br>\n",
    "-senior citizen\n",
    "\n"
   ]
  },
  {
   "cell_type": "markdown",
   "metadata": {},
   "source": [
    "## Stats Test and Viz<br>\n",
    "\n",
    "alpha = 0.05\n",
    "\n",
    "$H_0$ = Churn rate and having a electronic check payment type are independent of each other.<br>\n",
    "$H_1$ = Churn rate and having a electronic check payment type has correlation."
   ]
  },
  {
   "cell_type": "code",
   "execution_count": 4,
   "metadata": {},
   "outputs": [
    {
     "name": "stdout",
     "output_type": "stream",
     "text": [
      "payment_type_Electronic check \n",
      "_____________________\n",
      "\n",
      "         chi2        p-value  degrees of freedom\n",
      "0  640.557084  2.528030e-141                   1\n",
      "\n",
      "observed:\n",
      " churn                             0     1   All\n",
      "payment_type_Electronic check                  \n",
      "0                              3880   798  4678\n",
      "1                              1294  1071  2365\n",
      "All                            5174  1869  7043\n",
      "\n",
      "expected:\n",
      "              0            1\n",
      "0  3436.599744  1241.400256\n",
      "1  1737.400256   627.599744\n"
     ]
    },
    {
     "data": {
      "image/png": "[encoded data removed]",
      "text/plain": [
       "<Figure size 144x144 with 1 Axes>"
      ]
     },
     "metadata": {
      "needs_background": "light"
     },
     "output_type": "display_data"
    },
    {
     "name": "stdout",
     "output_type": "stream",
     "text": [
      "\n",
      "_____________________\n",
      "\n"
     ]
    }
   ],
   "source": [
    "explore_bivariate_categorical(df, 'churn', 'payment_type_Electronic check')\n"
   ]
  },
  {
   "cell_type": "markdown",
   "metadata": {},
   "source": [
    "We reject the null hypothesis as there are correlation between electronic check payment type and churn rate."
   ]
  },
  {
   "cell_type": "markdown",
   "metadata": {},
   "source": [
    "$H_0$ = Churn rate and having a fiber optic internet service type are independent of each other.<br>\n",
    "$H_1$ = Churn rate and having a fiber optic internet service type has correlation."
   ]
  },
  {
   "cell_type": "code",
   "execution_count": 5,
   "metadata": {},
   "outputs": [
    {
     "name": "stdout",
     "output_type": "stream",
     "text": [
      "internet_service_type_Fiber optic \n",
      "_____________________\n",
      "\n",
      "         chi2        p-value  degrees of freedom\n",
      "0  666.808021  4.940476e-147                   1\n",
      "\n",
      "observed:\n",
      " churn                                 0     1   All\n",
      "internet_service_type_Fiber optic                  \n",
      "0                                  3375   572  3947\n",
      "1                                  1799  1297  3096\n",
      "All                                5174  1869  7043\n",
      "\n",
      "expected:\n",
      "             0           1\n",
      "0  2899.58512  1047.41488\n",
      "1  2274.41488   821.58512\n"
     ]
    },
    {
     "data": {
      "image/png": "[encoded data removed]",
      "text/plain": [
       "<Figure size 144x144 with 1 Axes>"
      ]
     },
     "metadata": {
      "needs_background": "light"
     },
     "output_type": "display_data"
    },
    {
     "name": "stdout",
     "output_type": "stream",
     "text": [
      "\n",
      "_____________________\n",
      "\n"
     ]
    }
   ],
   "source": [
    "explore_bivariate_categorical(df, 'churn', 'internet_service_type_Fiber optic')\n"
   ]
  },
  {
   "cell_type": "markdown",
   "metadata": {},
   "source": [
    "We reject the null hypothesis as there are correlation between Fiber Optic internet type and churn rate."
   ]
  },
  {
   "cell_type": "markdown",
   "metadata": {},
   "source": [
    "$H_0$ = Churn rate and having a month-to-month contract type are independent of each other.<br>\n",
    "$H_1$ = Churn rate and having a month-to-month contract type has correlation."
   ]
  },
  {
   "cell_type": "code",
   "execution_count": 6,
   "metadata": {},
   "outputs": [
    {
     "name": "stdout",
     "output_type": "stream",
     "text": [
      "contract_type_Month-to-month \n",
      "_____________________\n",
      "\n",
      "          chi2        p-value  degrees of freedom\n",
      "0  1153.971661  6.147586e-253                   1\n",
      "\n",
      "observed:\n",
      " churn                            0     1   All\n",
      "contract_type_Month-to-month                  \n",
      "0                             2954   214  3168\n",
      "1                             2220  1655  3875\n",
      "All                           5174  1869  7043\n",
      "\n",
      "expected:\n",
      "              0            1\n",
      "0  2327.308249   840.691751\n",
      "1  2846.691751  1028.308249\n"
     ]
    },
    {
     "data": {
      "image/png": "[encoded data removed]",
      "text/plain": [
       "<Figure size 144x144 with 1 Axes>"
      ]
     },
     "metadata": {
      "needs_background": "light"
     },
     "output_type": "display_data"
    },
    {
     "name": "stdout",
     "output_type": "stream",
     "text": [
      "\n",
      "_____________________\n",
      "\n"
     ]
    }
   ],
   "source": [
    "explore_bivariate_categorical(df, 'churn', 'contract_type_Month-to-month')\n"
   ]
  },
  {
   "cell_type": "markdown",
   "metadata": {},
   "source": [
    "We reject the null hypothesis as there are correlation between Month-to-Month contract type and churn rate."
   ]
  },
  {
   "cell_type": "markdown",
   "metadata": {},
   "source": [
    "$H_0$ = Churn rate and senior citizens are independent of each other.<br>\n",
    "$H_1$ = Churn rate and senior citizens has correlation."
   ]
  },
  {
   "cell_type": "code",
   "execution_count": 7,
   "metadata": {},
   "outputs": [
    {
     "name": "stdout",
     "output_type": "stream",
     "text": [
      "senior_citizen \n",
      "_____________________\n",
      "\n",
      "       chi2       p-value  degrees of freedom\n",
      "0  159.4263  1.510067e-36                   1\n",
      "\n",
      "observed:\n",
      " churn              0     1   All\n",
      "senior_citizen                  \n",
      "0               4508  1393  5901\n",
      "1                666   476  1142\n",
      "All             5174  1869  7043\n",
      "\n",
      "expected:\n",
      "              0            1\n",
      "0  4335.052392  1565.947608\n",
      "1   838.947608   303.052392\n"
     ]
    },
    {
     "data": {
      "image/png": "[encoded data removed]",
      "text/plain": [
       "<Figure size 144x144 with 1 Axes>"
      ]
     },
     "metadata": {
      "needs_background": "light"
     },
     "output_type": "display_data"
    },
    {
     "name": "stdout",
     "output_type": "stream",
     "text": [
      "\n",
      "_____________________\n",
      "\n"
     ]
    }
   ],
   "source": [
    "explore_bivariate_categorical(df, 'churn', 'senior_citizen')"
   ]
  },
  {
   "cell_type": "markdown",
   "metadata": {},
   "source": [
    "We reject the null hypothesis as there are correlation between senior citizens and churn rate."
   ]
  },
  {
   "cell_type": "markdown",
   "metadata": {},
   "source": [
    "Takeaways\n",
    "From the above table, one can assume that customers who fall under the catgories of... <br>\n",
    "no partner, <br>\n",
    "no dependent, <br>\n",
    "no addtional services (online security, backup, protection, tech support) <br>\n",
    "paperless billing,<br>\n",
    "senior citizen,<br>\n",
    "month-to-month contract type,<br>\n",
    "fiber optic internet service type,<br>\n",
    "electronic check payment type"
   ]
  },
  {
   "cell_type": "markdown",
   "metadata": {},
   "source": [
    "## Modeling\n",
    "I will be using Random Forest, K-Nearest Neighbors, and Logistic Regression"
   ]
  },
  {
   "cell_type": "code",
   "execution_count": 13,
   "metadata": {},
   "outputs": [
    {
     "data": {
      "text/plain": [
       "0.7347197565305605"
      ]
     },
     "execution_count": 13,
     "metadata": {},
     "output_type": "execute_result"
    }
   ],
   "source": [
    "#Baseline Evaluation for \n",
    "baseline = (train.churn == 0).mean()\n",
    "baseline"
   ]
  },
  {
   "cell_type": "code",
   "execution_count": 79,
   "metadata": {},
   "outputs": [],
   "source": [
    "#store features and target variables\n",
    "features = ['senior_citizen', 'dependents', 'paperless_billing',\n",
    "            'payment_type_Electronic check',\n",
    "            'internet_service_type_Fiber optic',\n",
    "            'contract_type_Month-to-month', 'tenure']\n",
    "target = 'churn'"
   ]
  },
  {
   "cell_type": "code",
   "execution_count": 80,
   "metadata": {},
   "outputs": [],
   "source": [
    "#Split the train, validate, and test data\n",
    "X_train = train[features]\n",
    "y_train = train[[target]]\n",
    "\n",
    "X_validate = validate[features]\n",
    "y_validate = validate[[target]]\n",
    "\n",
    "X_test = test[features]\n",
    "y_test = test[[target]]"
   ]
  },
  {
   "cell_type": "code",
   "execution_count": 81,
   "metadata": {},
   "outputs": [],
   "source": [
    "rf = RandomForestClassifier(min_samples_leaf=1, max_depth=10, random_state=123)\n",
    "rf = rf.fit(X_train, y_train)"
   ]
  },
  {
   "cell_type": "code",
   "execution_count": 82,
   "metadata": {},
   "outputs": [],
   "source": [
    "knn = KNeighborsClassifier(n_neighbors=10)\n",
    "knn = knn.fit(X_train, y_train)"
   ]
  },
  {
   "cell_type": "code",
   "execution_count": 83,
   "metadata": {},
   "outputs": [],
   "source": [
    "logit = LogisticRegression(random_state=123)\n",
    "logit = logit.fit(X_train, y_train)"
   ]
  },
  {
   "cell_type": "code",
   "execution_count": 111,
   "metadata": {},
   "outputs": [
    {
     "name": "stdout",
     "output_type": "stream",
     "text": [
      "Training score for rf: 84.76%\n",
      "Training score for knn: 80.57%\n",
      "Training score for logit: 79.23%\n"
     ]
    }
   ],
   "source": [
    "print(f'Training score for rf: {rf.score(X_train, y_train):.2%}')\n",
    "\n",
    "print(f'Training score for knn: {knn.score(X_train, y_train):.2%}')\n",
    "\n",
    "print(f'Training score for logit: {logit.score(X_train, y_train):.2%}')"
   ]
  },
  {
   "cell_type": "code",
   "execution_count": 110,
   "metadata": {},
   "outputs": [
    {
     "name": "stdout",
     "output_type": "stream",
     "text": [
      "Validate score for rf: 77.59%\n",
      "Validate score for knn: 76.88%\n",
      "Validate score for logit: 79.18%\n"
     ]
    }
   ],
   "source": [
    "print(f'Validate score for rf: {rf.score(X_validate, y_validate):.2%}')\n",
    "\n",
    "print(f'Validate score for knn: {knn.score(X_validate, y_validate):.2%}')\n",
    "\n",
    "print(f'Validate score for logit: {logit.score(X_validate, y_validate):.2%}')"
   ]
  },
  {
   "cell_type": "markdown",
   "metadata": {},
   "source": [
    "The rf and knn models are overfitting.\n",
    "I will be using the logit model since the difference between training and validate scores are the lowest."
   ]
  },
  {
   "cell_type": "code",
   "execution_count": 89,
   "metadata": {},
   "outputs": [
    {
     "name": "stdout",
     "output_type": "stream",
     "text": [
      "              precision    recall  f1-score   support\n",
      "\n",
      "           0       0.84      0.91      0.87      1035\n",
      "           1       0.67      0.53      0.59       374\n",
      "\n",
      "    accuracy                           0.81      1409\n",
      "   macro avg       0.76      0.72      0.73      1409\n",
      "weighted avg       0.80      0.81      0.80      1409\n",
      "\n"
     ]
    }
   ],
   "source": [
    "pred_test = logit.predict(X_test)\n",
    "print(classification_report(y_test, pred_test))"
   ]
  },
  {
   "cell_type": "code",
   "execution_count": 90,
   "metadata": {},
   "outputs": [
    {
     "name": "stdout",
     "output_type": "stream",
     "text": [
      "Training score: 79.23%\n",
      "Validate score: 79.18%\n",
      "Test score: 80.62%\n"
     ]
    }
   ],
   "source": [
    "print(f'Training score: {logit.score(X_train, y_train):.2%}')\n",
    "print(f'Validate score: {logit.score(X_validate, y_validate):.2%}')\n",
    "print(f'Test score: {logit.score(X_test, y_test):.2%}')"
   ]
  },
  {
   "cell_type": "markdown",
   "metadata": {},
   "source": [
    "The test score is better than the training and validate score, and the scores were above the baseline score, which is 73.47%"
   ]
  },
  {
   "cell_type": "markdown",
   "metadata": {},
   "source": [
    "## Prediction"
   ]
  },
  {
   "cell_type": "code",
   "execution_count": 103,
   "metadata": {},
   "outputs": [
    {
     "data": {
      "text/html": [
       "<div>\n",
       "<style scoped>\n",
       "    .dataframe tbody tr th:only-of-type {\n",
       "        vertical-align: middle;\n",
       "    }\n",
       "\n",
       "    .dataframe tbody tr th {\n",
       "        vertical-align: top;\n",
       "    }\n",
       "\n",
       "    .dataframe thead th {\n",
       "        text-align: right;\n",
       "    }\n",
       "</style>\n",
       "<table border=\"1\" class=\"dataframe\">\n",
       "  <thead>\n",
       "    <tr style=\"text-align: right;\">\n",
       "      <th></th>\n",
       "      <th>Customer_ID</th>\n",
       "      <th>Prediction</th>\n",
       "    </tr>\n",
       "  </thead>\n",
       "  <tbody>\n",
       "    <tr>\n",
       "      <th>0</th>\n",
       "      <td>4531-AUZNK</td>\n",
       "      <td>0</td>\n",
       "    </tr>\n",
       "    <tr>\n",
       "      <th>1</th>\n",
       "      <td>2296-DKZFP</td>\n",
       "      <td>0</td>\n",
       "    </tr>\n",
       "    <tr>\n",
       "      <th>2</th>\n",
       "      <td>9692-TUSXH</td>\n",
       "      <td>1</td>\n",
       "    </tr>\n",
       "    <tr>\n",
       "      <th>3</th>\n",
       "      <td>5129-JLPIS</td>\n",
       "      <td>1</td>\n",
       "    </tr>\n",
       "    <tr>\n",
       "      <th>4</th>\n",
       "      <td>1273-MTETI</td>\n",
       "      <td>1</td>\n",
       "    </tr>\n",
       "    <tr>\n",
       "      <th>...</th>\n",
       "      <td>...</td>\n",
       "      <td>...</td>\n",
       "    </tr>\n",
       "    <tr>\n",
       "      <th>1404</th>\n",
       "      <td>1597-FZREH</td>\n",
       "      <td>0</td>\n",
       "    </tr>\n",
       "    <tr>\n",
       "      <th>1405</th>\n",
       "      <td>9117-SHLZX</td>\n",
       "      <td>0</td>\n",
       "    </tr>\n",
       "    <tr>\n",
       "      <th>1406</th>\n",
       "      <td>8441-SHIPE</td>\n",
       "      <td>0</td>\n",
       "    </tr>\n",
       "    <tr>\n",
       "      <th>1407</th>\n",
       "      <td>3511-BFTJW</td>\n",
       "      <td>0</td>\n",
       "    </tr>\n",
       "    <tr>\n",
       "      <th>1408</th>\n",
       "      <td>1428-GTBJJ</td>\n",
       "      <td>1</td>\n",
       "    </tr>\n",
       "  </tbody>\n",
       "</table>\n",
       "<p>1409 rows × 2 columns</p>\n",
       "</div>"
      ],
      "text/plain": [
       "     Customer_ID  Prediction\n",
       "0     4531-AUZNK           0\n",
       "1     2296-DKZFP           0\n",
       "2     9692-TUSXH           1\n",
       "3     5129-JLPIS           1\n",
       "4     1273-MTETI           1\n",
       "...          ...         ...\n",
       "1404  1597-FZREH           0\n",
       "1405  9117-SHLZX           0\n",
       "1406  8441-SHIPE           0\n",
       "1407  3511-BFTJW           0\n",
       "1408  1428-GTBJJ           1\n",
       "\n",
       "[1409 rows x 2 columns]"
      ]
     },
     "execution_count": 103,
     "metadata": {},
     "output_type": "execute_result"
    }
   ],
   "source": [
    "pred_csv = pd.DataFrame()\n",
    "pred_csv['Customer_ID'] = test['customer_id']\n",
    "pred_csv['Prediction'] = logit.predict(X_test)\n",
    "pred_csv = pred_csv.reset_index().drop(columns='index')\n",
    "pred_csv"
   ]
  },
  {
   "cell_type": "code",
   "execution_count": 104,
   "metadata": {},
   "outputs": [],
   "source": [
    "\n",
    "proba_df = pd.DataFrame(logit.predict_proba(X_test), columns= ['no_churn_proba', 'churn_proba'])\n",
    "proba_df.drop(columns='no_churn_proba', inplace= True)\n"
   ]
  },
  {
   "cell_type": "code",
   "execution_count": 105,
   "metadata": {},
   "outputs": [
    {
     "data": {
      "text/html": [
       "<div>\n",
       "<style scoped>\n",
       "    .dataframe tbody tr th:only-of-type {\n",
       "        vertical-align: middle;\n",
       "    }\n",
       "\n",
       "    .dataframe tbody tr th {\n",
       "        vertical-align: top;\n",
       "    }\n",
       "\n",
       "    .dataframe thead th {\n",
       "        text-align: right;\n",
       "    }\n",
       "</style>\n",
       "<table border=\"1\" class=\"dataframe\">\n",
       "  <thead>\n",
       "    <tr style=\"text-align: right;\">\n",
       "      <th></th>\n",
       "      <th>Customer_ID</th>\n",
       "      <th>Prediction</th>\n",
       "      <th>churn_proba</th>\n",
       "    </tr>\n",
       "  </thead>\n",
       "  <tbody>\n",
       "    <tr>\n",
       "      <th>0</th>\n",
       "      <td>4531-AUZNK</td>\n",
       "      <td>0</td>\n",
       "      <td>0.110469</td>\n",
       "    </tr>\n",
       "    <tr>\n",
       "      <th>1</th>\n",
       "      <td>2296-DKZFP</td>\n",
       "      <td>0</td>\n",
       "      <td>0.018618</td>\n",
       "    </tr>\n",
       "    <tr>\n",
       "      <th>2</th>\n",
       "      <td>9692-TUSXH</td>\n",
       "      <td>1</td>\n",
       "      <td>0.641862</td>\n",
       "    </tr>\n",
       "    <tr>\n",
       "      <th>3</th>\n",
       "      <td>5129-JLPIS</td>\n",
       "      <td>1</td>\n",
       "      <td>0.591009</td>\n",
       "    </tr>\n",
       "    <tr>\n",
       "      <th>4</th>\n",
       "      <td>1273-MTETI</td>\n",
       "      <td>1</td>\n",
       "      <td>0.781126</td>\n",
       "    </tr>\n",
       "  </tbody>\n",
       "</table>\n",
       "</div>"
      ],
      "text/plain": [
       "  Customer_ID  Prediction  churn_proba\n",
       "0  4531-AUZNK           0     0.110469\n",
       "1  2296-DKZFP           0     0.018618\n",
       "2  9692-TUSXH           1     0.641862\n",
       "3  5129-JLPIS           1     0.591009\n",
       "4  1273-MTETI           1     0.781126"
      ]
     },
     "execution_count": 105,
     "metadata": {},
     "output_type": "execute_result"
    }
   ],
   "source": [
    "df = pd.concat([pred_csv, proba_df], axis=1)\n",
    "df.head()"
   ]
  },
  {
   "cell_type": "code",
   "execution_count": 106,
   "metadata": {},
   "outputs": [],
   "source": [
    "df.to_csv('predictions.csv')"
   ]
  },
  {
   "cell_type": "markdown",
   "metadata": {},
   "source": [
    "## Conclusion"
   ]
  },
  {
   "cell_type": "markdown",
   "metadata": {},
   "source": [
    "## Summary\n",
    "Key drivers for the churning were identified and models were developed. Logistic regression predicted the best out of other models used. The logistic regression model was used as the difference in train and validate dataset was the lowest. The model was able to predict the churn rate at a 80.62% accuracy level on a test dataset. This is greater than the baseline accuracy level, which is 73.47%.\n",
    "\n",
    "Question on the correlation between the bivariate category variables and the churn rate were observed, and were found that the correlation exists in churn rate against demographies, additional services, contract type, payment type, and internet service type.\n",
    "\n",
    "## Key drivers for churning are:\n",
    "\n",
    "Demography - Senior or No dependents<br>\n",
    "Paperless billing<br>\n",
    "Payment Type of Electronic Check<br>\n",
    "Internet Service Type of Fiber Optic<br>\n",
    "Contract Type of Month-to-Month<br>\n",
    "Tenure\n",
    "\n",
    "## Recommendation:\n",
    "Even though fiber optic is more high tech than DSL, its churn rate is high. There may be an issue with the technology.\n",
    "Senior citizens or customers with no dependents are more likely to churn; hence, programs aimed towards those group should be devised.\n",
    "Payment type of electronic check churn at high rate. It is a non-automatic payment method, and they should be given incentives to switch to automatic payment.\n",
    "Month-to-month customers churns the most out of other contract type, and there should be incentives for the short-term contracts.\n",
    "\n",
    "## Next Step:\n",
    "With more time, I would like to explore more features and try different combinations of features to increase the model accuracy."
   ]
  }
 ],
 "metadata": {
  "interpreter": {
   "hash": "38cca0c38332a56087b24af0bc80247f4fced29cb4f7f437d91dc159adec9c4e"
  },
  "kernelspec": {
   "display_name": "Python 3.9.7 ('base')",
   "language": "python",
   "name": "python3"
  },
  "language_info": {
   "codemirror_mode": {
    "name": "ipython",
    "version": 3
   },
   "file_extension": ".py",
   "mimetype": "text/x-python",
   "name": "python",
   "nbconvert_exporter": "python",
   "pygments_lexer": "ipython3",
   "version": "3.9.7"
  },
  "orig_nbformat": 4
 },
 "nbformat": 4,
 "nbformat_minor": 2
}
